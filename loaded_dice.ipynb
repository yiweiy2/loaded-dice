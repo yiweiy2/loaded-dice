{
 "cells": [
  {
   "cell_type": "markdown",
   "metadata": {},
   "source": [
    "# Loaded Dice\n",
    "## Who Can You Trust?\n",
    "![image info](./loaded_die.jpg)"
   ]
  },
  {
   "cell_type": "markdown",
   "metadata": {},
   "source": [
    "You've grown tired of losing games with you friends and have started to suspect that some of them might be **cheating** with their dice.\n",
    "It's time to find out once and for all if your *paranoia* is well founded!"
   ]
  },
  {
   "cell_type": "markdown",
   "metadata": {},
   "source": [
    "We start by importing the libraries we will need to explore our data."
   ]
  },
  {
   "cell_type": "code",
   "execution_count": null,
   "metadata": {},
   "outputs": [],
   "source": [
    "import numpy as np\n",
    "import pandas as pd\n",
    "from matplotlib import pyplot as plt\n",
    "from scipy.stats import ttest_ind\n",
    "# from scipy.stats import bartlett"
   ]
  },
  {
   "cell_type": "markdown",
   "metadata": {},
   "source": [
    "We define a function that will let us generate dice rolling trials for arbitrarily-sided dice."
   ]
  },
  {
   "cell_type": "code",
   "execution_count": null,
   "metadata": {},
   "outputs": [],
   "source": [
    "def roll_dice(n_dice=1, n_trials=1, n_sides=20):\n",
    "    return np.random.randint(1, n_sides+1, (n_dice, n_trials))"
   ]
  },
  {
   "cell_type": "markdown",
   "metadata": {},
   "source": [
    "We define a dictionary within which we will store the trials for each of our friends."
   ]
  },
  {
   "cell_type": "code",
   "execution_count": null,
   "metadata": {},
   "outputs": [],
   "source": [
    "rolls = {}\n",
    "names = [\"Meera\", \"Muhammad\", \"George\", \"Ada\", \"Miguel\"]\n",
    "n_trials = 200"
   ]
  },
  {
   "cell_type": "markdown",
   "metadata": {},
   "source": [
    "The following snippet generates the dice rolling trials for each of our friends. We will leave it hidden for now so that we can determine on our own if our friends are **cheating** or not."
   ]
  },
  {
   "cell_type": "code",
   "execution_count": null,
   "metadata": {},
   "outputs": [],
   "source": [
    "for name_i, name in enumerate(names):\n",
    "    if name_i == 2:\n",
    "        rolls[name] = roll_dice(n_dice=2, n_trials=n_trials).max(0).flatten()\n",
    "    elif name_i == 4:\n",
    "        rolls[name] = (roll_dice(n_dice=1, n_trials=n_trials) + roll_dice(n_dice=1, n_trials=n_trials, n_sides=4)).flatten()\n",
    "    else:\n",
    "        rolls[name] = roll_dice(n_dice=1, n_trials=n_trials).flatten()"
   ]
  },
  {
   "cell_type": "markdown",
   "metadata": {},
   "source": [
    "We can load the trials into a dataframe to make looking at them easier. The head function lets us peak at the first 5 rows, which in our case is all of them."
   ]
  },
  {
   "cell_type": "code",
   "execution_count": null,
   "metadata": {},
   "outputs": [],
   "source": [
    "rolls_df = pd.DataFrame.from_dict(rolls, orient=\"index\")\n",
    "rolls_df.head()"
   ]
  },
  {
   "cell_type": "markdown",
   "metadata": {},
   "source": [
    "We expect our friends to be rolling a 20-sided die, once for each trial. We can generate our own set of trials as a reference, using our assumed generative method."
   ]
  },
  {
   "cell_type": "code",
   "execution_count": null,
   "metadata": {},
   "outputs": [],
   "source": [
    "reference_rolls = roll_dice(n_dice=1, n_trials=n_trials).flatten()\n",
    "print(\"Reference mean: {}\".format(reference_rolls.mean()))"
   ]
  },
  {
   "cell_type": "markdown",
   "metadata": {},
   "source": [
    "How do their means compare to our reference?"
   ]
  },
  {
   "cell_type": "code",
   "execution_count": null,
   "metadata": {},
   "outputs": [],
   "source": [
    "rolls_df.mean(axis=1)"
   ]
  },
  {
   "cell_type": "markdown",
   "metadata": {},
   "source": [
    "A couple of our friends are looking suspect. We can compare box plots to see how the distributions differ beyond the mean."
   ]
  },
  {
   "cell_type": "code",
   "execution_count": null,
   "metadata": {},
   "outputs": [],
   "source": [
    "plt.boxplot(rolls_df.T, labels=rolls_df.index)\n",
    "plt.show()"
   ]
  },
  {
   "cell_type": "markdown",
   "metadata": {},
   "source": [
    "It's time to see if any of these differences are statistically significant. Given the differences in the box plots, we can't be certain that these samples meet homogeneity of variance, which precludes our using ANOVA. Instead, we can perform multiple t tests and adjust our significance threshold with the *Bonferroni* correction. Starting from $ \\alpha_0 = .05$ and given that we have 5 hypotheses to test, we can set $ \\alpha = \\frac{.05}{5} = .01 $."
   ]
  },
  {
   "cell_type": "code",
   "execution_count": null,
   "metadata": {},
   "outputs": [],
   "source": [
    "for name in rolls_df.index:\n",
    "    print(name + \": \", ttest_ind(reference_rolls, rolls_df.loc[name]))"
   ]
  },
  {
   "cell_type": "markdown",
   "metadata": {},
   "source": [
    "We've found our culprits: **George** and **Miguel**!\n",
    "It seems like they might be using different approaches though. Let's find out more about the distributions of their trials using violin plots."
   ]
  },
  {
   "cell_type": "code",
   "execution_count": null,
   "metadata": {},
   "outputs": [],
   "source": [
    "plt.violinplot(rolls_df.T)\n",
    "plt.xticks(ticks=range(1, rolls_df.shape[0]+1), labels=rolls_df.index)\n",
    "plt.show()"
   ]
  },
  {
   "cell_type": "markdown",
   "metadata": {},
   "source": [
    "Those violin plots sure look different. Time to come up with and test a hypothesis for each of our cheaters.\n",
    "Hints:\n",
    "    - What does convolution do to a uniform distribution?\n",
    "    - It could be useful to compare variances.\n",
    "    - Getting to the bottom of Miguel's method may require a lot more trials."
   ]
  },
  {
   "cell_type": "code",
   "execution_count": null,
   "metadata": {},
   "outputs": [],
   "source": []
  }
 ],
 "metadata": {
  "interpreter": {
   "hash": "656ea1034e3e83f72c5099c965ac1613d4d47ef267ff66f7ff55351483f60e60"
  },
  "kernelspec": {
   "display_name": "Python 3.10.4 64-bit ('tim728': conda)",
   "name": "python3"
  },
  "language_info": {
   "codemirror_mode": {
    "name": "ipython",
    "version": 3
   },
   "file_extension": ".py",
   "mimetype": "text/x-python",
   "name": "python",
   "nbconvert_exporter": "python",
   "pygments_lexer": "ipython3",
   "version": "3.10.4"
  },
  "orig_nbformat": 4
 },
 "nbformat": 4,
 "nbformat_minor": 2
}
